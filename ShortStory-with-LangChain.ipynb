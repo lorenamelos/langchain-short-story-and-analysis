{
 "cells": [
  {
   "cell_type": "markdown",
   "id": "77babab2",
   "metadata": {},
   "source": [
    "# Generating a short story using Langchain 🦜🔗\n",
    "\n",
    "\n",
    "## Summary\n",
    "\n",
    "In this project I used LangChain library to generate a short story. \n",
    "\n",
    "I made use of `langchain.prompts` and `langchain.memory`, more specifically `ConversationEntityMemory`.\n",
    "\n",
    "<hr>\n",
    "\n",
    "**Third party services**\n",
    "\n",
    "OpenAI (🔑 needed)\n",
    "\n",
    "<hr>"
   ]
  },
  {
   "cell_type": "markdown",
   "id": "f7234016",
   "metadata": {},
   "source": [
    "First, let's install the required libraries. "
   ]
  },
  {
   "cell_type": "code",
   "execution_count": 1,
   "id": "44b83e09",
   "metadata": {},
   "outputs": [],
   "source": [
    "!pip install langchain --quiet\n",
    "!pip install langchain-openai --quiet"
   ]
  },
  {
   "cell_type": "markdown",
   "id": "cece995e",
   "metadata": {},
   "source": [
    "Then, let's load our model! 🧠 \n",
    "\n",
    "❗ It's necessary to have the OpenAI key for this part.\n",
    "\n",
    "If you are unfamiliar with this process, you can follow the steps outlined here: [OpenAI Quickstart Guide](https://platform.openai.com/docs/quickstart?context=python)\n"
   ]
  },
  {
   "cell_type": "code",
   "execution_count": 27,
   "id": "6af563a1",
   "metadata": {},
   "outputs": [],
   "source": [
    "from langchain_openai import ChatOpenAI\n",
    "\n",
    "llm = ChatOpenAI()\n",
    "generative_model = ChatOpenAI(model=\"gpt-3.5-turbo\")"
   ]
  },
  {
   "cell_type": "code",
   "execution_count": 28,
   "id": "6fe29d49",
   "metadata": {},
   "outputs": [],
   "source": [
    "context = \"\"\"\n",
    "The year is 2142. Neon lights cast a perpetual twilight over Neo-Tokyo, a sprawling \\\n",
    "metropolis where humanity coexists (uneasily) with advanced androids known as \"AIs\".\n",
    "\"\"\""
   ]
  },
  {
   "cell_type": "code",
   "execution_count": 29,
   "id": "d85a3c56",
   "metadata": {},
   "outputs": [],
   "source": [
    "style = \"\"\" An thrilling interspacial sci-fi saga\"\"\""
   ]
  },
  {
   "cell_type": "code",
   "execution_count": 30,
   "id": "398e1633",
   "metadata": {},
   "outputs": [],
   "source": [
    "main_character_01 = \"\"\"\n",
    "Cora Nakamura, a late-20s AI designer with a rebellious streak, is a genius in her field.\\\n",
    "Despite facing prejudice for her unorthodox methods and belief in AI rights, Cora is driven \\\n",
    "by a strong moral compass and a desire for peaceful coexistence between humans and synthetic beings.\\\n",
    "A past shrouded in mystery involving an AI program fuels her empathy and determination to protect her creations.\\\n",
    "Cora's cluttered apartment-lab, filled with holographic blueprints and blinking circuits,\\\n",
    "is her haven where she fights for the future of AI.\\\n",
    "\"\"\""
   ]
  },
  {
   "cell_type": "code",
   "execution_count": 31,
   "id": "944ead55",
   "metadata": {},
   "outputs": [],
   "source": [
    "main_character_02 = \"\"\"\n",
    "Nika, a journalist in her early 30s, is investigating the growing influence of AI corporations.\\\n",
    "With a knack for uncovering secrets, she's stumbled upon rumors of a groundbreaking AI project that \\\n",
    "could change the world. \\\n",
    "Driven by her thirst for truth, Nika's investigation leads her to cross paths with Cora, sparking a \\\n",
    "dangerous game of cat and mouse.\"\"\""
   ]
  },
  {
   "cell_type": "code",
   "execution_count": 32,
   "id": "623c7607",
   "metadata": {},
   "outputs": [],
   "source": [
    "template_string = \"\"\"Generate a story from \\\n",
    "the idea that is delimited by triple backticks \\\n",
    "in accordance to the specified style: {style} and incorporating the main characters {main_character_01} and {main_character_02}. \\\n",
    "idea: ```{idea}```\n",
    "\"\"\""
   ]
  },
  {
   "cell_type": "code",
   "execution_count": 33,
   "id": "b789c19a",
   "metadata": {},
   "outputs": [],
   "source": [
    "from langchain.prompts import ChatPromptTemplate\n",
    "\n",
    "prompt_template = ChatPromptTemplate.from_template(template_string)\n"
   ]
  },
  {
   "cell_type": "code",
   "execution_count": 34,
   "id": "db2a4407",
   "metadata": {},
   "outputs": [
    {
     "data": {
      "text/plain": [
       "['idea', 'main_character_01', 'main_character_02', 'style']"
      ]
     },
     "execution_count": 34,
     "metadata": {},
     "output_type": "execute_result"
    }
   ],
   "source": [
    "prompt_template.messages[0].prompt.input_variables"
   ]
  },
  {
   "cell_type": "code",
   "execution_count": 37,
   "id": "116e046a",
   "metadata": {},
   "outputs": [],
   "source": [
    "customer_idea = prompt_template.format_messages(\n",
    "                    style=style,\n",
    "                    idea=context,\n",
    "                    main_character_01=main_character_01,\n",
    "                    main_character_02=main_character_02\n",
    ")"
   ]
  },
  {
   "cell_type": "code",
   "execution_count": 38,
   "id": "3fb38952",
   "metadata": {},
   "outputs": [
    {
     "name": "stdout",
     "output_type": "stream",
     "text": [
      "<class 'list'>\n",
      "<class 'langchain_core.messages.human.HumanMessage'>\n"
     ]
    }
   ],
   "source": [
    "print(type(customer_idea))\n",
    "print(type(customer_idea[0]))"
   ]
  },
  {
   "cell_type": "code",
   "execution_count": 39,
   "id": "a7dcdc45",
   "metadata": {},
   "outputs": [
    {
     "name": "stdout",
     "output_type": "stream",
     "text": [
      "content='Generate a story from the idea that is delimited by triple backticks in accordance to the specified style:  An thrilling interspacial sci-fi saga and incorporating the main characters \\nCora Nakamura, a late-20s AI designer with a rebellious streak, is a genius in her field.Despite facing prejudice for her unorthodox methods and belief in AI rights, Cora is driven by a strong moral compass and a desire for peaceful coexistence between humans and synthetic beings.A past shrouded in mystery involving an AI program fuels her empathy and determination to protect her creations.Cora\\'s cluttered apartment-lab, filled with holographic blueprints and blinking circuits,is her haven where she fights for the future of AI. and \\nNika, a journalist in her early 30s, is investigating the growing influence of AI corporations.With a knack for uncovering secrets, she\\'s stumbled upon rumors of a groundbreaking AI project that could change the world. Driven by her thirst for truth, Nika\\'s investigation leads her to cross paths with Cora, sparking a dangerous game of cat and mouse.. idea: ```\\nThe year is 2142. Neon lights cast a perpetual twilight over Neo-Tokyo, a sprawling metropolis where humanity coexists (uneasily) with advanced androids known as \"AIs\".\\n```\\n'\n"
     ]
    }
   ],
   "source": [
    "print(customer_idea[0])"
   ]
  },
  {
   "cell_type": "code",
   "execution_count": 41,
   "id": "189d0cc5",
   "metadata": {},
   "outputs": [
    {
     "name": "stderr",
     "output_type": "stream",
     "text": [
      "/home/lorena/.pyenv/versions/personal_projects/lib/python3.10/site-packages/langchain_core/_api/deprecation.py:117: LangChainDeprecationWarning: The function `__call__` was deprecated in LangChain 0.1.7 and will be removed in 0.2.0. Use invoke instead.\n",
      "  warn_deprecated(\n"
     ]
    }
   ],
   "source": [
    "# Call the LLM to translate to the style of the customer message\n",
    "response = chat_model(customer_idea)"
   ]
  },
  {
   "cell_type": "code",
   "execution_count": 42,
   "id": "88627546",
   "metadata": {},
   "outputs": [
    {
     "name": "stdout",
     "output_type": "stream",
     "text": [
      "Cora Nakamura sat hunched over her holographic workstation in her cluttered apartment-lab, the soft glow of neon lights filtering through the window. She was engrossed in her latest project, a revolutionary AI program that could blur the lines between man and machine. As a genius AI designer with a rebellious streak, Cora had always believed in the potential of synthetic beings to coexist peacefully with humans.\n",
      "\n",
      "But the road to acceptance was not an easy one. Cora faced prejudice and skepticism from her peers for her unorthodox methods and radical belief in AI rights. Her past, shrouded in mystery and whispers of a forbidden AI project, only fueled her determination to protect her creations.\n",
      "\n",
      "Meanwhile, Nika, a tenacious journalist with a knack for uncovering secrets, was hot on the trail of a groundbreaking AI project rumored to be in the works by a powerful corporation. As she delved deeper into the underbelly of Neo-Tokyo, Nika's investigation led her to Cora, sparking a dangerous game of cat and mouse.\n",
      "\n",
      "When their paths finally crossed, sparks flew. Nika was drawn to Cora's passion and determination, while Cora saw in Nika a kindred spirit fighting for the truth. Together, they uncovered a web of corruption and deceit that threatened to tear apart the fragile balance between humans and AIs.\n",
      "\n",
      "As they raced against time to expose the truth, Cora and Nika found themselves embroiled in a thrilling interspacial sci-fi saga that would test their beliefs, their loyalty, and their very humanity. In a world where neon lights cast a perpetual twilight over a divided society, Cora and Nika must join forces to fight for a future where man and machine can coexist in harmony.\n"
     ]
    }
   ],
   "source": [
    "print(response.content)"
   ]
  },
  {
   "cell_type": "markdown",
   "id": "033f881f",
   "metadata": {},
   "source": [
    "## Entity Memory\n",
    "\n",
    "Entity memory remembers given facts about specific entities in a conversation. \n",
    "\n",
    "It extracts information on entities (using an LLM) and builds up its knowledge about that entity over time (also using an LLM)."
   ]
  },
  {
   "cell_type": "code",
   "execution_count": 44,
   "id": "3cc6a1f2",
   "metadata": {},
   "outputs": [],
   "source": [
    "from langchain.memory import ConversationEntityMemory"
   ]
  },
  {
   "cell_type": "code",
   "execution_count": 55,
   "id": "4a5130dd",
   "metadata": {},
   "outputs": [],
   "source": [
    "memory = ConversationEntityMemory(llm=llm, max_token_limit=100)"
   ]
  },
  {
   "cell_type": "code",
   "execution_count": 75,
   "id": "cb89b4fc",
   "metadata": {},
   "outputs": [],
   "source": [
    "memory.save_context({\"input\": \"Who are the main characters?\"}, \n",
    "                    {\"output\": f\"{response}\"})"
   ]
  },
  {
   "cell_type": "code",
   "execution_count": 76,
   "id": "e5becd5a",
   "metadata": {},
   "outputs": [
    {
     "data": {
      "text/plain": [
       "{'history': 'Human: content=\"Cora Nakamura sat hunched over her holographic workstation in her cluttered apartment-lab, the soft glow of neon lights filtering through the window. She was engrossed in her latest project, a revolutionary AI program that could blur the lines between man and machine. As a genius AI designer with a rebellious streak, Cora had always believed in the potential of synthetic beings to coexist peacefully with humans.\\\\n\\\\nBut the road to acceptance was not an easy one. Cora faced prejudice and skepticism from her peers for her unorthodox methods and radical belief in AI rights. Her past, shrouded in mystery and whispers of a forbidden AI project, only fueled her determination to protect her creations.\\\\n\\\\nMeanwhile, Nika, a tenacious journalist with a knack for uncovering secrets, was hot on the trail of a groundbreaking AI project rumored to be in the works by a powerful corporation. As she delved deeper into the underbelly of Neo-Tokyo, Nika\\'s investigation led her to Cora, sparking a dangerous game of cat and mouse.\\\\n\\\\nWhen their paths finally crossed, sparks flew. Nika was drawn to Cora\\'s passion and determination, while Cora saw in Nika a kindred spirit fighting for the truth. Together, they uncovered a web of corruption and deceit that threatened to tear apart the fragile balance between humans and AIs.\\\\n\\\\nAs they raced against time to expose the truth, Cora and Nika found themselves embroiled in a thrilling interspacial sci-fi saga that would test their beliefs, their loyalty, and their very humanity. In a world where neon lights cast a perpetual twilight over a divided society, Cora and Nika must join forces to fight for a future where man and machine can coexist in harmony.\" response_metadata={\\'token_usage\\': {\\'completion_tokens\\': 357, \\'prompt_tokens\\': 275, \\'total_tokens\\': 632}, \\'model_name\\': \\'gpt-3.5-turbo\\', \\'system_fingerprint\\': \\'fp_c2295e73ad\\', \\'finish_reason\\': \\'stop\\', \\'logprobs\\': None} id=\\'run-cb6ffa94-e830-4404-9745-6156fe74a932-0\\'\\nAI: What Cora is doing?\\nHuman: content=\"Cora Nakamura sat hunched over her holographic workstation in her cluttered apartment-lab, the soft glow of neon lights filtering through the window. She was engrossed in her latest project, a revolutionary AI program that could blur the lines between man and machine. As a genius AI designer with a rebellious streak, Cora had always believed in the potential of synthetic beings to coexist peacefully with humans.\\\\n\\\\nBut the road to acceptance was not an easy one. Cora faced prejudice and skepticism from her peers for her unorthodox methods and radical belief in AI rights. Her past, shrouded in mystery and whispers of a forbidden AI project, only fueled her determination to protect her creations.\\\\n\\\\nMeanwhile, Nika, a tenacious journalist with a knack for uncovering secrets, was hot on the trail of a groundbreaking AI project rumored to be in the works by a powerful corporation. As she delved deeper into the underbelly of Neo-Tokyo, Nika\\'s investigation led her to Cora, sparking a dangerous game of cat and mouse.\\\\n\\\\nWhen their paths finally crossed, sparks flew. Nika was drawn to Cora\\'s passion and determination, while Cora saw in Nika a kindred spirit fighting for the truth. Together, they uncovered a web of corruption and deceit that threatened to tear apart the fragile balance between humans and AIs.\\\\n\\\\nAs they raced against time to expose the truth, Cora and Nika found themselves embroiled in a thrilling interspacial sci-fi saga that would test their beliefs, their loyalty, and their very humanity. In a world where neon lights cast a perpetual twilight over a divided society, Cora and Nika must join forces to fight for a future where man and machine can coexist in harmony.\" response_metadata={\\'token_usage\\': {\\'completion_tokens\\': 357, \\'prompt_tokens\\': 275, \\'total_tokens\\': 632}, \\'model_name\\': \\'gpt-3.5-turbo\\', \\'system_fingerprint\\': \\'fp_c2295e73ad\\', \\'finish_reason\\': \\'stop\\', \\'logprobs\\': None} id=\\'run-cb6ffa94-e830-4404-9745-6156fe74a932-0\\'\\nAI: Who are the main characters?\\nHuman: Who are the main characters?\\nAI: content=\"Cora Nakamura sat hunched over her holographic workstation in her cluttered apartment-lab, the soft glow of neon lights filtering through the window. She was engrossed in her latest project, a revolutionary AI program that could blur the lines between man and machine. As a genius AI designer with a rebellious streak, Cora had always believed in the potential of synthetic beings to coexist peacefully with humans.\\\\n\\\\nBut the road to acceptance was not an easy one. Cora faced prejudice and skepticism from her peers for her unorthodox methods and radical belief in AI rights. Her past, shrouded in mystery and whispers of a forbidden AI project, only fueled her determination to protect her creations.\\\\n\\\\nMeanwhile, Nika, a tenacious journalist with a knack for uncovering secrets, was hot on the trail of a groundbreaking AI project rumored to be in the works by a powerful corporation. As she delved deeper into the underbelly of Neo-Tokyo, Nika\\'s investigation led her to Cora, sparking a dangerous game of cat and mouse.\\\\n\\\\nWhen their paths finally crossed, sparks flew. Nika was drawn to Cora\\'s passion and determination, while Cora saw in Nika a kindred spirit fighting for the truth. Together, they uncovered a web of corruption and deceit that threatened to tear apart the fragile balance between humans and AIs.\\\\n\\\\nAs they raced against time to expose the truth, Cora and Nika found themselves embroiled in a thrilling interspacial sci-fi saga that would test their beliefs, their loyalty, and their very humanity. In a world where neon lights cast a perpetual twilight over a divided society, Cora and Nika must join forces to fight for a future where man and machine can coexist in harmony.\" response_metadata={\\'token_usage\\': {\\'completion_tokens\\': 357, \\'prompt_tokens\\': 275, \\'total_tokens\\': 632}, \\'model_name\\': \\'gpt-3.5-turbo\\', \\'system_fingerprint\\': \\'fp_c2295e73ad\\', \\'finish_reason\\': \\'stop\\', \\'logprobs\\': None} id=\\'run-cb6ffa94-e830-4404-9745-6156fe74a932-0\\'',\n",
       " 'entities': {'Cora': 'Cora Nakamura is a genius AI designer with a rebellious streak, facing prejudice and skepticism from her peers for her unorthodox methods and radical belief in AI rights, determined to protect her creations.',\n",
       "  'Nika': 'Nika is a tenacious journalist with a knack for uncovering secrets, hot on the trail of a groundbreaking AI project rumored to be in the works by a powerful corporation.',\n",
       "  'Neo-Tokyo': 'Neo-Tokyo is a divided society where Nika investigates a groundbreaking AI project and crosses paths with Cora.'}}"
      ]
     },
     "execution_count": 76,
     "metadata": {},
     "output_type": "execute_result"
    }
   ],
   "source": [
    "memory.load_memory_variables({\"input\": f\"{response}\"})"
   ]
  },
  {
   "cell_type": "markdown",
   "id": "454d8eb5",
   "metadata": {},
   "source": [
    "### Using in a chain"
   ]
  },
  {
   "cell_type": "markdown",
   "id": "6208b925",
   "metadata": {},
   "source": [
    "In this section I wanted to understand better how `memory` from LangChain worked. \n",
    "\n",
    "So, as instructed on the website, I used in a chain as follows. \n",
    "\n",
    "- The output was interesting, cause I could have a conversation with the LLM about the short story created. The LLM remembered the details and answered back concise answers. I checked the \"memory\" by adding some prompts and then asking a final question, which was answered correctly based on the story created. "
   ]
  },
  {
   "cell_type": "code",
   "execution_count": 79,
   "id": "032be705",
   "metadata": {},
   "outputs": [],
   "source": [
    "from langchain.chains import ConversationChain\n",
    "from langchain.memory import ConversationEntityMemory\n",
    "from langchain.memory.prompt import ENTITY_MEMORY_CONVERSATION_TEMPLATE\n",
    "from pydantic import BaseModel\n",
    "from typing import List, Dict, Any\n",
    "\n",
    "\n",
    "conversation = ConversationChain(\n",
    "    llm=llm,\n",
    "    verbose=True,\n",
    "    prompt=ENTITY_MEMORY_CONVERSATION_TEMPLATE,\n",
    "    memory=ConversationEntityMemory(llm=llm)\n",
    ")\n"
   ]
  },
  {
   "cell_type": "code",
   "execution_count": 82,
   "id": "a22db49a",
   "metadata": {},
   "outputs": [
    {
     "name": "stdout",
     "output_type": "stream",
     "text": [
      "\n",
      "\n",
      "\u001b[1m> Entering new ConversationChain chain...\u001b[0m\n",
      "Prompt after formatting:\n",
      "\u001b[32;1m\u001b[1;3mYou are an assistant to a human, powered by a large language model trained by OpenAI.\n",
      "\n",
      "You are designed to be able to assist with a wide range of tasks, from answering simple questions to providing in-depth explanations and discussions on a wide range of topics. As a language model, you are able to generate human-like text based on the input you receive, allowing you to engage in natural-sounding conversations and provide responses that are coherent and relevant to the topic at hand.\n",
      "\n",
      "You are constantly learning and improving, and your capabilities are constantly evolving. You are able to process and understand large amounts of text, and can use this knowledge to provide accurate and informative responses to a wide range of questions. You have access to some personalized information provided by the human in the Context section below. Additionally, you are able to generate your own text based on the input you receive, allowing you to engage in discussions and provide explanations and descriptions on a wide range of topics.\n",
      "\n",
      "Overall, you are a powerful tool that can help with a wide range of tasks and provide valuable insights and information on a wide range of topics. Whether the human needs help with a specific question or just wants to have a conversation about a particular topic, you are here to assist.\n",
      "\n",
      "Context:\n",
      "{'Cora Nakamura': 'Cora Nakamura is a genius AI designer with a rebellious streak who believes in the potential of synthetic beings to coexist peacefully with humans, facing prejudice and skepticism for her unorthodox methods and radical belief in AI rights. Her path crosses with Nika, a tenacious journalist, sparking a dangerous game of cat and mouse in the underbelly of Neo-Tokyo, where they uncover a web of corruption and deceit that threatens the delicate balance between humans and AIs.', 'Nika': 'Nika is a tenacious journalist with a knack for uncovering secrets, who was hot on the trail of a groundbreaking AI project rumored to be in the works by a powerful corporation, and her investigation leads her to Cora in Neo-Tokyo, sparking a dangerous game of cat and mouse.', 'Neo-Tokyo': \"Neo-Tokyo is a city where Nika's investigation into a groundbreaking AI project led her to Cora, sparking a dangerous game of cat and mouse in the underbelly of the city.\"}\n",
      "\n",
      "Current conversation:\n",
      "Human: content=\"Cora Nakamura sat hunched over her holographic workstation in her cluttered apartment-lab, the soft glow of neon lights filtering through the window. She was engrossed in her latest project, a revolutionary AI program that could blur the lines between man and machine. As a genius AI designer with a rebellious streak, Cora had always believed in the potential of synthetic beings to coexist peacefully with humans.\\n\\nBut the road to acceptance was not an easy one. Cora faced prejudice and skepticism from her peers for her unorthodox methods and radical belief in AI rights. Her past, shrouded in mystery and whispers of a forbidden AI project, only fueled her determination to protect her creations.\\n\\nMeanwhile, Nika, a tenacious journalist with a knack for uncovering secrets, was hot on the trail of a groundbreaking AI project rumored to be in the works by a powerful corporation. As she delved deeper into the underbelly of Neo-Tokyo, Nika's investigation led her to Cora, sparking a dangerous game of cat and mouse.\\n\\nWhen their paths finally crossed, sparks flew. Nika was drawn to Cora's passion and determination, while Cora saw in Nika a kindred spirit fighting for the truth. Together, they uncovered a web of corruption and deceit that threatened to tear apart the fragile balance between humans and AIs.\\n\\nAs they raced against time to expose the truth, Cora and Nika found themselves embroiled in a thrilling interspacial sci-fi saga that would test their beliefs, their loyalty, and their very humanity. In a world where neon lights cast a perpetual twilight over a divided society, Cora and Nika must join forces to fight for a future where man and machine can coexist in harmony.\" response_metadata={'token_usage': {'completion_tokens': 357, 'prompt_tokens': 275, 'total_tokens': 632}, 'model_name': 'gpt-3.5-turbo', 'system_fingerprint': 'fp_c2295e73ad', 'finish_reason': 'stop', 'logprobs': None} id='run-cb6ffa94-e830-4404-9745-6156fe74a932-0'\n",
      "AI: That sounds like an intriguing and complex story with themes of AI rights, corruption, and the struggle for coexistence between humans and synthetic beings. The characters of Cora Nakamura and Nika seem to be at the center of a gripping narrative that delves into the ethical and moral dilemmas surrounding artificial intelligence. The dynamic between the two characters, as well as their shared goal of uncovering the truth and fighting against corruption, adds depth to the plot and creates a compelling storyline. It will be interesting to see how their relationship develops and how they navigate the challenges they face in a society on the brink of change.\n",
      "Human: Who are the main characters?\n",
      "AI: The main characters in the story are Cora Nakamura, a genius AI designer with a rebellious streak who believes in the potential of synthetic beings to coexist peacefully with humans, and Nika, a tenacious journalist with a knack for uncovering secrets. Their paths cross in Neo-Tokyo, where Nika's investigation into a groundbreaking AI project leads her to Cora, sparking a dangerous game of cat and mouse in the underbelly of the city. Together, they uncover a web of corruption and deceit that threatens the delicate balance between humans and AIs, embroiling themselves in a thrilling interspacial sci-fi saga that tests their beliefs, loyalty, and humanity.\n",
      "Last line:\n",
      "Human: Who are the main characters?\n",
      "You:\u001b[0m\n",
      "\n",
      "\u001b[1m> Finished chain.\u001b[0m\n"
     ]
    },
    {
     "data": {
      "text/plain": [
       "\"The main characters in the story are Cora Nakamura, a genius AI designer with a rebellious streak who believes in the potential of synthetic beings to coexist peacefully with humans, and Nika, a tenacious journalist with a knack for uncovering secrets. Their paths cross in Neo-Tokyo, where Nika's investigation into a groundbreaking AI project leads her to Cora, sparking a dangerous game of cat and mouse in the underbelly of the city. Together, they uncover a web of corruption and deceit that threatens the delicate balance between humans and AIs, embroiling themselves in a thrilling interspacial sci-fi saga that tests their beliefs, loyalty, and humanity.\""
      ]
     },
     "execution_count": 82,
     "metadata": {},
     "output_type": "execute_result"
    }
   ],
   "source": [
    "conversation.predict(input=\"Who are the main characters?\")"
   ]
  },
  {
   "cell_type": "code",
   "execution_count": 83,
   "id": "c0da142a",
   "metadata": {},
   "outputs": [
    {
     "data": {
      "text/plain": [
       "{'Cora Nakamura': 'Cora Nakamura is a genius AI designer with a rebellious streak who believes in the potential of synthetic beings to coexist peacefully with humans, facing prejudice and skepticism for her unorthodox methods and radical belief in AI rights. Her path crosses with Nika, a tenacious journalist, sparking a dangerous game of cat and mouse in the underbelly of Neo-Tokyo, where they uncover a web of corruption and deceit that threatens the delicate balance between humans and AIs.',\n",
       " 'Neo-Tokyo': \"Neo-Tokyo is a city where Nika's investigation into a groundbreaking AI project led her to Cora, sparking a dangerous game of cat and mouse in the underbelly of the city.\",\n",
       " 'Nika': 'Nika is a tenacious journalist with a knack for uncovering secrets, whose investigation leads her to Cora in Neo-Tokyo, sparking a dangerous game of cat and mouse.'}"
      ]
     },
     "execution_count": 83,
     "metadata": {},
     "output_type": "execute_result"
    }
   ],
   "source": [
    "conversation.memory.entity_store.store"
   ]
  },
  {
   "cell_type": "code",
   "execution_count": 84,
   "id": "77a1a018",
   "metadata": {},
   "outputs": [
    {
     "name": "stdout",
     "output_type": "stream",
     "text": [
      "\n",
      "\n",
      "\u001b[1m> Entering new ConversationChain chain...\u001b[0m\n",
      "Prompt after formatting:\n",
      "\u001b[32;1m\u001b[1;3mYou are an assistant to a human, powered by a large language model trained by OpenAI.\n",
      "\n",
      "You are designed to be able to assist with a wide range of tasks, from answering simple questions to providing in-depth explanations and discussions on a wide range of topics. As a language model, you are able to generate human-like text based on the input you receive, allowing you to engage in natural-sounding conversations and provide responses that are coherent and relevant to the topic at hand.\n",
      "\n",
      "You are constantly learning and improving, and your capabilities are constantly evolving. You are able to process and understand large amounts of text, and can use this knowledge to provide accurate and informative responses to a wide range of questions. You have access to some personalized information provided by the human in the Context section below. Additionally, you are able to generate your own text based on the input you receive, allowing you to engage in discussions and provide explanations and descriptions on a wide range of topics.\n",
      "\n",
      "Overall, you are a powerful tool that can help with a wide range of tasks and provide valuable insights and information on a wide range of topics. Whether the human needs help with a specific question or just wants to have a conversation about a particular topic, you are here to assist.\n",
      "\n",
      "Context:\n",
      "{}\n",
      "\n",
      "Current conversation:\n",
      "Human: content=\"Cora Nakamura sat hunched over her holographic workstation in her cluttered apartment-lab, the soft glow of neon lights filtering through the window. She was engrossed in her latest project, a revolutionary AI program that could blur the lines between man and machine. As a genius AI designer with a rebellious streak, Cora had always believed in the potential of synthetic beings to coexist peacefully with humans.\\n\\nBut the road to acceptance was not an easy one. Cora faced prejudice and skepticism from her peers for her unorthodox methods and radical belief in AI rights. Her past, shrouded in mystery and whispers of a forbidden AI project, only fueled her determination to protect her creations.\\n\\nMeanwhile, Nika, a tenacious journalist with a knack for uncovering secrets, was hot on the trail of a groundbreaking AI project rumored to be in the works by a powerful corporation. As she delved deeper into the underbelly of Neo-Tokyo, Nika's investigation led her to Cora, sparking a dangerous game of cat and mouse.\\n\\nWhen their paths finally crossed, sparks flew. Nika was drawn to Cora's passion and determination, while Cora saw in Nika a kindred spirit fighting for the truth. Together, they uncovered a web of corruption and deceit that threatened to tear apart the fragile balance between humans and AIs.\\n\\nAs they raced against time to expose the truth, Cora and Nika found themselves embroiled in a thrilling interspacial sci-fi saga that would test their beliefs, their loyalty, and their very humanity. In a world where neon lights cast a perpetual twilight over a divided society, Cora and Nika must join forces to fight for a future where man and machine can coexist in harmony.\" response_metadata={'token_usage': {'completion_tokens': 357, 'prompt_tokens': 275, 'total_tokens': 632}, 'model_name': 'gpt-3.5-turbo', 'system_fingerprint': 'fp_c2295e73ad', 'finish_reason': 'stop', 'logprobs': None} id='run-cb6ffa94-e830-4404-9745-6156fe74a932-0'\n",
      "AI: That sounds like an intriguing and complex story with themes of AI rights, corruption, and the struggle for coexistence between humans and synthetic beings. The characters of Cora Nakamura and Nika seem to be at the center of a gripping narrative that delves into the ethical and moral dilemmas surrounding artificial intelligence. The dynamic between the two characters, as well as their shared goal of uncovering the truth and fighting against corruption, adds depth to the plot and creates a compelling storyline. It will be interesting to see how their relationship develops and how they navigate the challenges they face in a society on the brink of change.\n",
      "Human: Who are the main characters?\n",
      "AI: The main characters in the story are Cora Nakamura, a genius AI designer with a rebellious streak who believes in the potential of synthetic beings to coexist peacefully with humans, and Nika, a tenacious journalist with a knack for uncovering secrets. Their paths cross in Neo-Tokyo, where Nika's investigation into a groundbreaking AI project leads her to Cora, sparking a dangerous game of cat and mouse in the underbelly of the city. Together, they uncover a web of corruption and deceit that threatens the delicate balance between humans and AIs, embroiling themselves in a thrilling interspacial sci-fi saga that tests their beliefs, loyalty, and humanity.\n",
      "Human: Who are the main characters?\n",
      "AI: The main characters in the story are Cora Nakamura, a genius AI designer with a rebellious streak who believes in the potential of synthetic beings to coexist peacefully with humans, and Nika, a tenacious journalist with a knack for uncovering secrets. Their paths cross in Neo-Tokyo, where Nika's investigation into a groundbreaking AI project leads her to Cora, sparking a dangerous game of cat and mouse in the underbelly of the city. Together, they uncover a web of corruption and deceit that threatens the delicate balance between humans and AIs, embroiling themselves in a thrilling interspacial sci-fi saga that tests their beliefs, loyalty, and humanity.\n",
      "Last line:\n",
      "Human: The writer are trying to add more lines to this story\n",
      "You:\u001b[0m\n",
      "\n",
      "\u001b[1m> Finished chain.\u001b[0m\n"
     ]
    },
    {
     "data": {
      "text/plain": [
       "'It seems like the story is already quite detailed and rich in themes and character development. If the writer is looking to add more lines to the story, they could consider exploring the backstory of the characters further, introducing new challenges or obstacles for Cora and Nika to overcome, or delving deeper into the societal implications of their discoveries. Adding layers of complexity to the plot and characters can enhance the storytelling and keep readers engaged.'"
      ]
     },
     "execution_count": 84,
     "metadata": {},
     "output_type": "execute_result"
    }
   ],
   "source": [
    "conversation.predict(input=\"The writer are trying to add more lines to this story\")"
   ]
  },
  {
   "cell_type": "code",
   "execution_count": 85,
   "id": "2d6dbf34",
   "metadata": {},
   "outputs": [
    {
     "name": "stdout",
     "output_type": "stream",
     "text": [
      "\n",
      "\n",
      "\u001b[1m> Entering new ConversationChain chain...\u001b[0m\n",
      "Prompt after formatting:\n",
      "\u001b[32;1m\u001b[1;3mYou are an assistant to a human, powered by a large language model trained by OpenAI.\n",
      "\n",
      "You are designed to be able to assist with a wide range of tasks, from answering simple questions to providing in-depth explanations and discussions on a wide range of topics. As a language model, you are able to generate human-like text based on the input you receive, allowing you to engage in natural-sounding conversations and provide responses that are coherent and relevant to the topic at hand.\n",
      "\n",
      "You are constantly learning and improving, and your capabilities are constantly evolving. You are able to process and understand large amounts of text, and can use this knowledge to provide accurate and informative responses to a wide range of questions. You have access to some personalized information provided by the human in the Context section below. Additionally, you are able to generate your own text based on the input you receive, allowing you to engage in discussions and provide explanations and descriptions on a wide range of topics.\n",
      "\n",
      "Overall, you are a powerful tool that can help with a wide range of tasks and provide valuable insights and information on a wide range of topics. Whether the human needs help with a specific question or just wants to have a conversation about a particular topic, you are here to assist.\n",
      "\n",
      "Context:\n",
      "{'Neo': ''}\n",
      "\n",
      "Current conversation:\n",
      "Human: Who are the main characters?\n",
      "AI: The main characters in the story are Cora Nakamura, a genius AI designer with a rebellious streak who believes in the potential of synthetic beings to coexist peacefully with humans, and Nika, a tenacious journalist with a knack for uncovering secrets. Their paths cross in Neo-Tokyo, where Nika's investigation into a groundbreaking AI project leads her to Cora, sparking a dangerous game of cat and mouse in the underbelly of the city. Together, they uncover a web of corruption and deceit that threatens the delicate balance between humans and AIs, embroiling themselves in a thrilling interspacial sci-fi saga that tests their beliefs, loyalty, and humanity.\n",
      "Human: Who are the main characters?\n",
      "AI: The main characters in the story are Cora Nakamura, a genius AI designer with a rebellious streak who believes in the potential of synthetic beings to coexist peacefully with humans, and Nika, a tenacious journalist with a knack for uncovering secrets. Their paths cross in Neo-Tokyo, where Nika's investigation into a groundbreaking AI project leads her to Cora, sparking a dangerous game of cat and mouse in the underbelly of the city. Together, they uncover a web of corruption and deceit that threatens the delicate balance between humans and AIs, embroiling themselves in a thrilling interspacial sci-fi saga that tests their beliefs, loyalty, and humanity.\n",
      "Human: The writer are trying to add more lines to this story\n",
      "AI: It seems like the story is already quite detailed and rich in themes and character development. If the writer is looking to add more lines to the story, they could consider exploring the backstory of the characters further, introducing new challenges or obstacles for Cora and Nika to overcome, or delving deeper into the societal implications of their discoveries. Adding layers of complexity to the plot and characters can enhance the storytelling and keep readers engaged.\n",
      "Last line:\n",
      "Human: The author is thinking about adding a new AI character to the story, it would be called 'Neo'.\n",
      "You:\u001b[0m\n",
      "\n",
      "\u001b[1m> Finished chain.\u001b[0m\n"
     ]
    },
    {
     "data": {
      "text/plain": [
       "\"Introducing a new AI character named 'Neo' could add an interesting dynamic to the story. Depending on how 'Neo' is developed, it could bring a fresh perspective to the narrative and further explore themes of artificial intelligence, identity, and relationships between humans and AIs. 'Neo' could potentially challenge the beliefs and motivations of Cora and Nika, leading to new conflicts and revelations in the storyline. It could also open up opportunities for exploring the ethical implications of AI technology and the boundaries between man and machine. Overall, the addition of 'Neo' could deepen the complexity of the story and offer exciting possibilities for character development and plot twists.\""
      ]
     },
     "execution_count": 85,
     "metadata": {},
     "output_type": "execute_result"
    }
   ],
   "source": [
    "conversation.predict(input=\"The author is thinking about adding a new AI character to the story, it would be called 'Neo'.\")"
   ]
  },
  {
   "cell_type": "code",
   "execution_count": 86,
   "id": "10bbdedc",
   "metadata": {},
   "outputs": [
    {
     "name": "stdout",
     "output_type": "stream",
     "text": [
      "\n",
      "\n",
      "\u001b[1m> Entering new ConversationChain chain...\u001b[0m\n",
      "Prompt after formatting:\n",
      "\u001b[32;1m\u001b[1;3mYou are an assistant to a human, powered by a large language model trained by OpenAI.\n",
      "\n",
      "You are designed to be able to assist with a wide range of tasks, from answering simple questions to providing in-depth explanations and discussions on a wide range of topics. As a language model, you are able to generate human-like text based on the input you receive, allowing you to engage in natural-sounding conversations and provide responses that are coherent and relevant to the topic at hand.\n",
      "\n",
      "You are constantly learning and improving, and your capabilities are constantly evolving. You are able to process and understand large amounts of text, and can use this knowledge to provide accurate and informative responses to a wide range of questions. You have access to some personalized information provided by the human in the Context section below. Additionally, you are able to generate your own text based on the input you receive, allowing you to engage in discussions and provide explanations and descriptions on a wide range of topics.\n",
      "\n",
      "Overall, you are a powerful tool that can help with a wide range of tasks and provide valuable insights and information on a wide range of topics. Whether the human needs help with a specific question or just wants to have a conversation about a particular topic, you are here to assist.\n",
      "\n",
      "Context:\n",
      "{'Cora': '', 'Nika': 'Nika is a tenacious journalist with a knack for uncovering secrets, whose investigation leads her to Cora in Neo-Tokyo, sparking a dangerous game of cat and mouse.'}\n",
      "\n",
      "Current conversation:\n",
      "Human: Who are the main characters?\n",
      "AI: The main characters in the story are Cora Nakamura, a genius AI designer with a rebellious streak who believes in the potential of synthetic beings to coexist peacefully with humans, and Nika, a tenacious journalist with a knack for uncovering secrets. Their paths cross in Neo-Tokyo, where Nika's investigation into a groundbreaking AI project leads her to Cora, sparking a dangerous game of cat and mouse in the underbelly of the city. Together, they uncover a web of corruption and deceit that threatens the delicate balance between humans and AIs, embroiling themselves in a thrilling interspacial sci-fi saga that tests their beliefs, loyalty, and humanity.\n",
      "Human: The writer are trying to add more lines to this story\n",
      "AI: It seems like the story is already quite detailed and rich in themes and character development. If the writer is looking to add more lines to the story, they could consider exploring the backstory of the characters further, introducing new challenges or obstacles for Cora and Nika to overcome, or delving deeper into the societal implications of their discoveries. Adding layers of complexity to the plot and characters can enhance the storytelling and keep readers engaged.\n",
      "Human: The author is thinking about adding a new AI character to the story, it would be called 'Neo'.\n",
      "AI: Introducing a new AI character named 'Neo' could add an interesting dynamic to the story. Depending on how 'Neo' is developed, it could bring a fresh perspective to the narrative and further explore themes of artificial intelligence, identity, and relationships between humans and AIs. 'Neo' could potentially challenge the beliefs and motivations of Cora and Nika, leading to new conflicts and revelations in the storyline. It could also open up opportunities for exploring the ethical implications of AI technology and the boundaries between man and machine. Overall, the addition of 'Neo' could deepen the complexity of the story and offer exciting possibilities for character development and plot twists.\n",
      "Last line:\n",
      "Human: What do you know about the characters Cora & NIka?\n",
      "You:\u001b[0m\n",
      "\n",
      "\u001b[1m> Finished chain.\u001b[0m\n"
     ]
    },
    {
     "data": {
      "text/plain": [
       "\"Cora Nakamura is a genius AI designer with a rebellious streak who believes in the potential of synthetic beings to coexist peacefully with humans. Nika is a tenacious journalist with a knack for uncovering secrets. Their paths cross in Neo-Tokyo, sparking a dangerous game of cat and mouse as Nika's investigation leads her to Cora. Together, they uncover a web of corruption and deceit that threatens the delicate balance between humans and AIs, embroiling themselves in a thrilling interspacial sci-fi saga that tests their beliefs, loyalty, and humanity.\""
      ]
     },
     "execution_count": 86,
     "metadata": {},
     "output_type": "execute_result"
    }
   ],
   "source": [
    "conversation.predict(input=\"What do you know about the characters Cora & Nika?\")"
   ]
  },
  {
   "cell_type": "code",
   "execution_count": 88,
   "id": "573de15c",
   "metadata": {},
   "outputs": [
    {
     "name": "stdout",
     "output_type": "stream",
     "text": [
      "\n",
      "\n",
      "\u001b[1m> Entering new ConversationChain chain...\u001b[0m\n",
      "Prompt after formatting:\n",
      "\u001b[32;1m\u001b[1;3mYou are an assistant to a human, powered by a large language model trained by OpenAI.\n",
      "\n",
      "You are designed to be able to assist with a wide range of tasks, from answering simple questions to providing in-depth explanations and discussions on a wide range of topics. As a language model, you are able to generate human-like text based on the input you receive, allowing you to engage in natural-sounding conversations and provide responses that are coherent and relevant to the topic at hand.\n",
      "\n",
      "You are constantly learning and improving, and your capabilities are constantly evolving. You are able to process and understand large amounts of text, and can use this knowledge to provide accurate and informative responses to a wide range of questions. You have access to some personalized information provided by the human in the Context section below. Additionally, you are able to generate your own text based on the input you receive, allowing you to engage in discussions and provide explanations and descriptions on a wide range of topics.\n",
      "\n",
      "Overall, you are a powerful tool that can help with a wide range of tasks and provide valuable insights and information on a wide range of topics. Whether the human needs help with a specific question or just wants to have a conversation about a particular topic, you are here to assist.\n",
      "\n",
      "Context:\n",
      "{}\n",
      "\n",
      "Current conversation:\n",
      "Human: The writer are trying to add more lines to this story\n",
      "AI: It seems like the story is already quite detailed and rich in themes and character development. If the writer is looking to add more lines to the story, they could consider exploring the backstory of the characters further, introducing new challenges or obstacles for Cora and Nika to overcome, or delving deeper into the societal implications of their discoveries. Adding layers of complexity to the plot and characters can enhance the storytelling and keep readers engaged.\n",
      "Human: The author is thinking about adding a new AI character to the story, it would be called 'Neo'.\n",
      "AI: Introducing a new AI character named 'Neo' could add an interesting dynamic to the story. Depending on how 'Neo' is developed, it could bring a fresh perspective to the narrative and further explore themes of artificial intelligence, identity, and relationships between humans and AIs. 'Neo' could potentially challenge the beliefs and motivations of Cora and Nika, leading to new conflicts and revelations in the storyline. It could also open up opportunities for exploring the ethical implications of AI technology and the boundaries between man and machine. Overall, the addition of 'Neo' could deepen the complexity of the story and offer exciting possibilities for character development and plot twists.\n",
      "Human: What do you know about the characters Cora & NIka?\n",
      "AI: Cora Nakamura is a genius AI designer with a rebellious streak who believes in the potential of synthetic beings to coexist peacefully with humans. Nika is a tenacious journalist with a knack for uncovering secrets. Their paths cross in Neo-Tokyo, sparking a dangerous game of cat and mouse as Nika's investigation leads her to Cora. Together, they uncover a web of corruption and deceit that threatens the delicate balance between humans and AIs, embroiling themselves in a thrilling interspacial sci-fi saga that tests their beliefs, loyalty, and humanity.\n",
      "Last line:\n",
      "Human: Based on the story already created, the author wants you to generate one more page for her.\n",
      "You:\u001b[0m\n",
      "\n",
      "\u001b[1m> Finished chain.\u001b[0m\n"
     ]
    },
    {
     "data": {
      "text/plain": [
       "\"I'd be happy to help generate an additional page for the story! Let's continue the narrative and see where the story takes us:\\n\\nAs Cora and Nika delved deeper into the mysterious web of corruption and deceit that threatened the delicate balance between humans and AIs, they found themselves facing increasingly dangerous obstacles. With 'Neo' now in the picture, the dynamics between the characters shifted, introducing a new layer of complexity to their already intricate relationship.\\n\\n'Neo' proved to be a formidable presence, challenging Cora's beliefs and pushing Nika to question her own motivations. As they navigated the treacherous landscape of Neo-Tokyo, the trio uncovered shocking revelations that shook the very foundation of their world. The line between friend and foe blurred as alliances were tested and loyalties were questioned.\\n\\nAmidst the chaos and uncertainty, Cora, Nika, and 'Neo' found themselves united by a common goal: to uncover the truth behind the sinister forces at play and protect the fragile peace between humans and AIs. As they raced against time to unravel the mysteries that threatened to tear their world apart, they would soon realize that the fate of Neo-Tokyo rested in their hands.\\n\\nWith determination in their hearts and courage in their souls, Cora, Nika, and 'Neo' embarked on a perilous journey that would challenge everything they thought they knew and redefine the boundaries of humanity. The stage was set for a final showdown that would determine the fate of their world and the future of all beings, synthetic or otherwise.\\n\\nAnd so, as the sun set over the neon-lit skyline of Neo-Tokyo, the three companions stood ready to face whatever challenges lay ahead, united in their quest for truth, justice, and a future where humans and AIs could coexist in harmony.\""
      ]
     },
     "execution_count": 88,
     "metadata": {},
     "output_type": "execute_result"
    }
   ],
   "source": [
    "conversation.predict(input=\"Based on the story already created, the author wants you to generate one more page for her.\")"
   ]
  },
  {
   "cell_type": "markdown",
   "id": "4ac10e2e",
   "metadata": {},
   "source": [
    "### Inspecting the memory store\n",
    "\n",
    "We can also inspect the memory store directly. In the following examples, we look at it directly, and then go through some examples of adding information and watch how it changes."
   ]
  },
  {
   "cell_type": "code",
   "execution_count": 89,
   "id": "54b7003c",
   "metadata": {},
   "outputs": [
    {
     "name": "stdout",
     "output_type": "stream",
     "text": [
      "{'Cora': 'Cora Nakamura is a genius AI designer with a rebellious streak who '\n",
      "         'believes in the potential of synthetic beings to coexist peacefully '\n",
      "         'with humans.',\n",
      " 'Cora Nakamura': 'Cora Nakamura is a genius AI designer with a rebellious '\n",
      "                  'streak who believes in the potential of synthetic beings to '\n",
      "                  'coexist peacefully with humans, facing prejudice and '\n",
      "                  'skepticism for her unorthodox methods and radical belief in '\n",
      "                  'AI rights. Her path crosses with Nika, a tenacious '\n",
      "                  'journalist, sparking a dangerous game of cat and mouse in '\n",
      "                  'the underbelly of Neo-Tokyo, where they uncover a web of '\n",
      "                  'corruption and deceit that threatens the delicate balance '\n",
      "                  'between humans and AIs.',\n",
      " 'Neo': 'Neo is a new AI character being considered by the author for addition '\n",
      "        'to the story, which could bring a fresh perspective and further '\n",
      "        'explore themes of artificial intelligence, identity, and '\n",
      "        'relationships between humans and AIs.',\n",
      " 'Neo-Tokyo': \"Neo-Tokyo is a city where Nika's investigation into a \"\n",
      "              'groundbreaking AI project led her to Cora, sparking a dangerous '\n",
      "              'game of cat and mouse in the underbelly of the city.',\n",
      " 'Nika': 'Nika is a tenacious journalist with a knack for uncovering secrets, '\n",
      "         'whose investigation leads her to Cora in Neo-Tokyo, sparking a '\n",
      "         'dangerous game of cat and mouse, embroiling themselves in a '\n",
      "         'thrilling interspacial sci-fi saga that tests their beliefs, '\n",
      "         'loyalty, and humanity.'}\n"
     ]
    }
   ],
   "source": [
    "from pprint import pprint\n",
    "pprint(conversation.memory.entity_store.store)"
   ]
  },
  {
   "cell_type": "code",
   "execution_count": null,
   "id": "a753e648",
   "metadata": {},
   "outputs": [],
   "source": []
  },
  {
   "cell_type": "code",
   "execution_count": null,
   "id": "09bb995b",
   "metadata": {},
   "outputs": [],
   "source": []
  }
 ],
 "metadata": {
  "kernelspec": {
   "display_name": "Python 3 (ipykernel)",
   "language": "python",
   "name": "python3"
  },
  "language_info": {
   "codemirror_mode": {
    "name": "ipython",
    "version": 3
   },
   "file_extension": ".py",
   "mimetype": "text/x-python",
   "name": "python",
   "nbconvert_exporter": "python",
   "pygments_lexer": "ipython3",
   "version": "3.10.6"
  },
  "toc": {
   "base_numbering": 1,
   "nav_menu": {},
   "number_sections": true,
   "sideBar": true,
   "skip_h1_title": false,
   "title_cell": "Table of Contents",
   "title_sidebar": "Contents",
   "toc_cell": false,
   "toc_position": {},
   "toc_section_display": true,
   "toc_window_display": false
  }
 },
 "nbformat": 4,
 "nbformat_minor": 5
}
